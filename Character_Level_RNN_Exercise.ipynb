{
 "cells": [
  {
   "cell_type": "markdown",
   "metadata": {},
   "source": [
    "# Character-Level LSTM in PyTorch\n",
    "\n",
    "In this notebook, I'll construct a character-level LSTM with PyTorch. The network will train character by character on some text, then generate new text character by character. As an example, I will train on Anna Karenina. **This model will be able to generate new text based on the text from the book!**\n",
    "\n",
    "This network is based off of Andrej Karpathy's [post on RNNs](http://karpathy.github.io/2015/05/21/rnn-effectiveness/) and [implementation in Torch](https://github.com/karpathy/char-rnn). Below is the general architecture of the character-wise RNN.\n",
    "\n",
    "<img src=\"assets/charseq.jpeg\" width=\"500\">"
   ]
  },
  {
   "cell_type": "markdown",
   "metadata": {},
   "source": [
    "First let's load in our required resources for data loading and model creation."
   ]
  },
  {
   "cell_type": "code",
   "execution_count": 1,
   "metadata": {},
   "outputs": [],
   "source": [
    "import numpy as np\n",
    "import torch\n",
    "from torch import nn\n",
    "import torch.nn.functional as F"
   ]
  },
  {
   "cell_type": "markdown",
   "metadata": {},
   "source": [
    "## Load in Data\n",
    "\n",
    "Then, we'll load the Anna Karenina text file and convert it into integers for our network to use. "
   ]
  },
  {
   "cell_type": "code",
   "execution_count": 2,
   "metadata": {},
   "outputs": [],
   "source": [
    "# open text file and read in data as `text`\n",
    "with open('data/anna.txt', 'r') as f:\n",
    "    text = f.read()"
   ]
  },
  {
   "cell_type": "markdown",
   "metadata": {},
   "source": [
    "Let's check out the first 100 characters, make sure everything is peachy. According to the [American Book Review](http://americanbookreview.org/100bestlines.asp), this is the 6th best first line of a book ever."
   ]
  },
  {
   "cell_type": "code",
   "execution_count": 3,
   "metadata": {},
   "outputs": [
    {
     "data": {
      "text/plain": [
       "'Chapter 1\\n\\n\\nHappy families are all alike; every unhappy family is unhappy in its own\\nway.\\n\\nEverythin'"
      ]
     },
     "execution_count": 3,
     "metadata": {},
     "output_type": "execute_result"
    }
   ],
   "source": [
    "text[:100]"
   ]
  },
  {
   "cell_type": "markdown",
   "metadata": {},
   "source": [
    "### Tokenization\n",
    "\n",
    "In the cells, below, I'm creating a couple **dictionaries** to convert the characters to and from integers. Encoding the characters as integers makes it easier to use as input in the network."
   ]
  },
  {
   "cell_type": "code",
   "execution_count": 58,
   "metadata": {},
   "outputs": [],
   "source": [
    "# encode the text and map each character to an integer and vice versa\n",
    "\n",
    "# we create two dictionaries:\n",
    "# 1. int2char, which maps integers to characters\n",
    "# 2. char2int, which maps characters to unique integers\n",
    "chars = tuple(set(text))\n",
    "int2char = dict(enumerate(chars))\n",
    "char2int = {ch: ii for ii, ch in int2char.items()}\n",
    "\n",
    "# encode the text\n",
    "encoded = np.array([char2int[ch] for ch in text])"
   ]
  },
  {
   "cell_type": "markdown",
   "metadata": {},
   "source": [
    "And we can see those same characters from above, encoded as integers."
   ]
  },
  {
   "cell_type": "code",
   "execution_count": 59,
   "metadata": {},
   "outputs": [
    {
     "data": {
      "text/plain": [
       "array([46, 42, 78, 44,  6, 49, 23, 60, 18,  8,  8,  8, 64, 78, 44, 44, 15,\n",
       "       60, 39, 78, 57, 51,  3, 51, 49, 22, 60, 78, 23, 49, 60, 78,  3,  3,\n",
       "       60, 78,  3, 51, 75, 49, 27, 60, 49, 61, 49, 23, 15, 60, 14, 47, 42,\n",
       "       78, 44, 44, 15, 60, 39, 78, 57, 51,  3, 15, 60, 51, 22, 60, 14, 47,\n",
       "       42, 78, 44, 44, 15, 60, 51, 47, 60, 51,  6, 22, 60, 36, 16, 47,  8,\n",
       "       16, 78, 15,  1,  8,  8, 50, 61, 49, 23, 15,  6, 42, 51, 47])"
      ]
     },
     "execution_count": 59,
     "metadata": {},
     "output_type": "execute_result"
    }
   ],
   "source": [
    "encoded[:100]"
   ]
  },
  {
   "cell_type": "markdown",
   "metadata": {},
   "source": [
    "## Pre-processing the data\n",
    "\n",
    "As you can see in our char-RNN image above, our LSTM expects an input that is **one-hot encoded** meaning that each character is converted into an integer (via our created dictionary) and *then* converted into a column vector where only it's corresponding integer index will have the value of 1 and the rest of the vector will be filled with 0's. Since we're one-hot encoding the data, let's make a function to do that!\n"
   ]
  },
  {
   "cell_type": "code",
   "execution_count": 60,
   "metadata": {},
   "outputs": [],
   "source": [
    "def one_hot_encode(arr, n_labels):\n",
    "    \n",
    "    # Initialize the the encoded array\n",
    "    one_hot = np.zeros((arr.size, n_labels), dtype=np.float32)\n",
    "    \n",
    "    # Fill the appropriate elements with ones\n",
    "    one_hot[np.arange(one_hot.shape[0]), arr.flatten()] = 1.\n",
    "    \n",
    "    # Finally reshape it to get back to the original array\n",
    "    one_hot = one_hot.reshape((*arr.shape, n_labels))\n",
    "    \n",
    "    return one_hot"
   ]
  },
  {
   "cell_type": "code",
   "execution_count": 61,
   "metadata": {},
   "outputs": [
    {
     "name": "stdout",
     "output_type": "stream",
     "text": [
      "[[[0. 0. 0. 1. 0. 0. 0. 0.]\n",
      "  [0. 0. 0. 0. 0. 1. 0. 0.]\n",
      "  [0. 1. 0. 0. 0. 0. 0. 0.]]]\n"
     ]
    }
   ],
   "source": [
    "# check that the function works as expected\n",
    "test_seq = np.array([[3, 5, 1]])\n",
    "one_hot = one_hot_encode(test_seq, 8)\n",
    "\n",
    "print(one_hot)"
   ]
  },
  {
   "cell_type": "markdown",
   "metadata": {},
   "source": [
    "## Making training mini-batches\n",
    "\n",
    "\n",
    "To train on this data, we also want to create mini-batches for training. Remember that we want our batches to be multiple sequences of some desired number of sequence steps. Considering a simple example, our batches would look like this:\n",
    "\n",
    "<img src=\"assets/sequence_batching@1x.png\" width=500px>\n",
    "\n",
    "\n",
    "<br>\n",
    "\n",
    "In this example, we'll take the encoded characters (passed in as the `arr` parameter) and split them into multiple sequences, given by `batch_size`. Each of our sequences will be `seq_length` long.\n",
    "\n",
    "### Creating Batches\n",
    "\n",
    "**1. The first thing we need to do is discard some of the text so we only have completely full mini-batches. **\n",
    "\n",
    "Each batch contains $N \\times M$ characters, where $N$ is the batch size (the number of sequences in a batch) and $M$ is the seq_length or number of time steps in a sequence. Then, to get the total number of batches, $K$, that we can make from the array `arr`, you divide the length of `arr` by the number of characters per batch. Once you know the number of batches, you can get the total number of characters to keep from `arr`, $N * M * K$.\n",
    "\n",
    "**2. After that, we need to split `arr` into $N$ batches. ** \n",
    "\n",
    "You can do this using `arr.reshape(size)` where `size` is a tuple containing the dimensions sizes of the reshaped array. We know we want $N$ sequences in a batch, so let's make that the size of the first dimension. For the second dimension, you can use `-1` as a placeholder in the size, it'll fill up the array with the appropriate data for you. After this, you should have an array that is $N \\times (M * K)$.\n",
    "\n",
    "**3. Now that we have this array, we can iterate through it to get our mini-batches. **\n",
    "\n",
    "The idea is each batch is a $N \\times M$ window on the $N \\times (M * K)$ array. For each subsequent batch, the window moves over by `seq_length`. We also want to create both the input and target arrays. Remember that the targets are just the inputs shifted over by one character. The way I like to do this window is use `range` to take steps of size `n_steps` from $0$ to `arr.shape[1]`, the total number of tokens in each sequence. That way, the integers you get from `range` always point to the start of a batch, and each window is `seq_length` wide.\n",
    "\n",
    "> **TODO:** Write the code for creating batches in the function below. The exercises in this notebook _will not be easy_. I've provided a notebook with solutions alongside this notebook. If you get stuck, checkout the solutions. The most important thing is that you don't copy and paste the code into here, **type out the solution code yourself.**"
   ]
  },
  {
   "cell_type": "code",
   "execution_count": 62,
   "metadata": {},
   "outputs": [],
   "source": [
    "def get_batches(arr, batch_size, seq_length):\n",
    "    '''Create a generator that returns batches of size\n",
    "       batch_size x seq_length from arr.\n",
    "       \n",
    "       Arguments\n",
    "       ---------\n",
    "       arr: Array you want to make batches from\n",
    "       batch_size: Batch size, the number of sequences per batch\n",
    "       seq_length: Number of encoded chars in a sequence\n",
    "    '''\n",
    "    \n",
    "    ## TODO: Get the number of batches we can make\n",
    "    n_batches =len(arr)// (seq_length*batch_size)\n",
    "    \n",
    "    ## TODO: Keep only enough characters to make full batches\n",
    "    arr = arr[: n_batches*batch_size*seq_length]\n",
    "    \n",
    "    ## TODO: Reshape into batch_size rows\n",
    "    arr = arr.reshape((batch_size,-1))\n",
    "    \n",
    "    ## TODO: Iterate over the batches using a window of size seq_length\n",
    "    for n in range(0, arr.shape[1], seq_length):\n",
    "        # The features\n",
    "        x = arr[:, n:n+seq_length]\n",
    "        # The targets, shifted by one\n",
    "        y = np.zeros_like(x)\n",
    "        try:\n",
    "            y[:,:-1] , y[:,-1]=x[:,1:], arr[:,n+seq_length]\n",
    "        except IndexError:\n",
    "            y[:,:-1] , y[:,-1]=x[:,1:], arr[:,0]\n",
    "        yield x, y"
   ]
  },
  {
   "cell_type": "markdown",
   "metadata": {},
   "source": [
    "### Test Your Implementation\n",
    "\n",
    "Now I'll make some data sets and we can check out what's going on as we batch data. Here, as an example, I'm going to use a batch size of 8 and 50 sequence steps."
   ]
  },
  {
   "cell_type": "code",
   "execution_count": 63,
   "metadata": {},
   "outputs": [],
   "source": [
    "batches = get_batches(encoded, 8, 50)\n",
    "x, y = next(batches)"
   ]
  },
  {
   "cell_type": "code",
   "execution_count": 64,
   "metadata": {},
   "outputs": [
    {
     "name": "stdout",
     "output_type": "stream",
     "text": [
      "x\n",
      " [[46 42 78 44  6 49 23 60 18  8]\n",
      " [22 36 47 60  6 42 78  6 60 78]\n",
      " [49 47 12 60 36 23 60 78 60 39]\n",
      " [22 60  6 42 49 60 55 42 51 49]\n",
      " [60 22 78 16 60 42 49 23 60  6]\n",
      " [55 14 22 22 51 36 47 60 78 47]\n",
      " [60 52 47 47 78 60 42 78 12 60]\n",
      " [40 43  3 36 47 22 75 15  1 60]]\n",
      "\n",
      "y\n",
      " [[42 78 44  6 49 23 60 18  8  8]\n",
      " [36 47 60  6 42 78  6 60 78  6]\n",
      " [47 12 60 36 23 60 78 60 39 36]\n",
      " [60  6 42 49 60 55 42 51 49 39]\n",
      " [22 78 16 60 42 49 23 60  6 49]\n",
      " [14 22 22 51 36 47 60 78 47 12]\n",
      " [52 47 47 78 60 42 78 12 60 22]\n",
      " [43  3 36 47 22 75 15  1 60 54]]\n"
     ]
    }
   ],
   "source": [
    "# printing out the first 10 items in a sequence\n",
    "print('x\\n', x[:10, :10])\n",
    "print('\\ny\\n', y[:10, :10])"
   ]
  },
  {
   "cell_type": "markdown",
   "metadata": {},
   "source": [
    "If you implemented `get_batches` correctly, the above output should look something like \n",
    "```\n",
    "x\n",
    " [[25  8 60 11 45 27 28 73  1  2]\n",
    " [17  7 20 73 45  8 60 45 73 60]\n",
    " [27 20 80 73  7 28 73 60 73 65]\n",
    " [17 73 45  8 27 73 66  8 46 27]\n",
    " [73 17 60 12 73  8 27 28 73 45]\n",
    " [66 64 17 17 46  7 20 73 60 20]\n",
    " [73 76 20 20 60 73  8 60 80 73]\n",
    " [47 35 43  7 20 17 24 50 37 73]]\n",
    "\n",
    "y\n",
    " [[ 8 60 11 45 27 28 73  1  2  2]\n",
    " [ 7 20 73 45  8 60 45 73 60 45]\n",
    " [20 80 73  7 28 73 60 73 65  7]\n",
    " [73 45  8 27 73 66  8 46 27 65]\n",
    " [17 60 12 73  8 27 28 73 45 27]\n",
    " [64 17 17 46  7 20 73 60 20 80]\n",
    " [76 20 20 60 73  8 60 80 73 17]\n",
    " [35 43  7 20 17 24 50 37 73 36]]\n",
    " ```\n",
    " although the exact numbers may be different. Check to make sure the data is shifted over one step for `y`."
   ]
  },
  {
   "cell_type": "markdown",
   "metadata": {},
   "source": [
    "---\n",
    "## Defining the network with PyTorch\n",
    "\n",
    "Below is where you'll define the network.\n",
    "\n",
    "<img src=\"assets/charRNN.png\" width=500px>\n",
    "\n",
    "Next, you'll use PyTorch to define the architecture of the network. We start by defining the layers and operations we want. Then, define a method for the forward pass. You've also been given a method for predicting characters."
   ]
  },
  {
   "cell_type": "markdown",
   "metadata": {},
   "source": [
    "### Model Structure\n",
    "\n",
    "In `__init__` the suggested structure is as follows:\n",
    "* Create and store the necessary dictionaries (this has been done for you)\n",
    "* Define an LSTM layer that takes as params: an input size (the number of characters), a hidden layer size `n_hidden`, a number of layers `n_layers`, a dropout probability `drop_prob`, and a batch_first boolean (True, since we are batching)\n",
    "* Define a dropout layer with `drop_prob`\n",
    "* Define a fully-connected layer with params: input size `n_hidden` and output size (the number of characters)\n",
    "* Finally, initialize the weights (again, this has been given)\n",
    "\n",
    "Note that some parameters have been named and given in the `__init__` function, and we use them and store them by doing something like `self.drop_prob = drop_prob`."
   ]
  },
  {
   "cell_type": "markdown",
   "metadata": {},
   "source": [
    "---\n",
    "### LSTM Inputs/Outputs\n",
    "\n",
    "You can create a basic [LSTM layer](https://pytorch.org/docs/stable/nn.html#lstm) as follows\n",
    "\n",
    "```python\n",
    "self.lstm = nn.LSTM(input_size, n_hidden, n_layers, \n",
    "                            dropout=drop_prob, batch_first=True)\n",
    "```\n",
    "\n",
    "where `input_size` is the number of characters this cell expects to see as sequential input, and `n_hidden` is the number of units in the hidden layers in the cell. And we can add dropout by adding a dropout parameter with a specified probability; this will automatically add dropout to the inputs or outputs. Finally, in the `forward` function, we can stack up the LSTM cells into layers using `.view`. With this, you pass in a list of cells and it will send the output of one cell into the next cell.\n",
    "\n",
    "We also need to create an initial hidden state of all zeros. This is done like so\n",
    "\n",
    "```python\n",
    "self.init_hidden()\n",
    "```"
   ]
  },
  {
   "cell_type": "code",
   "execution_count": 65,
   "metadata": {},
   "outputs": [
    {
     "name": "stdout",
     "output_type": "stream",
     "text": [
      "No GPU available, training on CPU; consider making n_epochs very small.\n"
     ]
    }
   ],
   "source": [
    "# check if GPU is available\n",
    "train_on_gpu = torch.cuda.is_available()\n",
    "if(train_on_gpu):\n",
    "    print('Training on GPU!')\n",
    "else: \n",
    "    print('No GPU available, training on CPU; consider making n_epochs very small.')"
   ]
  },
  {
   "cell_type": "code",
   "execution_count": 78,
   "metadata": {},
   "outputs": [],
   "source": [
    "class CharRNN(nn.Module):\n",
    "    \n",
    "    def __init__(self, tokens, n_hidden=256, n_layers=2,\n",
    "                               drop_prob=0.5, lr=0.001):\n",
    "        super().__init__()\n",
    "        self.drop_prob = drop_prob\n",
    "        self.n_layers = n_layers\n",
    "        self.n_hidden = n_hidden\n",
    "        self.lr = lr\n",
    "        # creating character dictionaries\n",
    "        self.chars = tokens\n",
    "        self.int2char = dict(enumerate(self.chars))\n",
    "        self.char2int = {ch: ii for ii, ch in self.int2char.items()}\n",
    "        \n",
    "        ## TODO: define the layers of the model\n",
    "        self.lstm=nn.LSTM(len(self.chars),n_hidden,n_layers,dropout=drop_prob, batch_first=True)\n",
    "        self.fc=nn.Linear(n_hidden,len(self.chars))\n",
    "        self.dropout=nn.Dropout(drop_prob)\n",
    "      \n",
    "    \n",
    "    def forward(self, x, hidden):\n",
    "        ''' Forward pass through the network. \n",
    "            These inputs are x, and the hidden/cell state `hidden`. '''\n",
    "                \n",
    "        ## TODO: Get the outputs and the new hidden state from the lstm\n",
    "        x,hidden= self.lstm(x,hidden)\n",
    "        out=self.dropout(x)\n",
    "        out=out.reshape(-1,self.n_hidden)\n",
    "        out=self.fc(out)\n",
    "        # return the final output and the hidden state\n",
    "        return out, hidden\n",
    "    \n",
    "    \n",
    "    def init_hidden(self, batch_size):\n",
    "        ''' Initializes hidden state '''\n",
    "        # Create two new tensors with sizes n_layers x batch_size x n_hidden,\n",
    "        # initialized to zero, for hidden state and cell state of LSTM\n",
    "        weight = next(self.parameters()).data\n",
    "        \n",
    "        if (train_on_gpu):\n",
    "            hidden = (weight.new(self.n_layers, batch_size, self.n_hidden).zero_().cuda(),\n",
    "                  weight.new(self.n_layers, batch_size, self.n_hidden).zero_().cuda())\n",
    "        else:\n",
    "            hidden = (weight.new(self.n_layers, batch_size, self.n_hidden).zero_(),\n",
    "                      weight.new(self.n_layers, batch_size, self.n_hidden).zero_())\n",
    "        \n",
    "        return hidden\n",
    "        "
   ]
  },
  {
   "cell_type": "markdown",
   "metadata": {},
   "source": [
    "## Time to train\n",
    "\n",
    "The train function gives us the ability to set the number of epochs, the learning rate, and other parameters.\n",
    "\n",
    "Below we're using an Adam optimizer and cross entropy loss since we are looking at character class scores as output. We calculate the loss and perform backpropagation, as usual!\n",
    "\n",
    "A couple of details about training: \n",
    ">* Within the batch loop, we detach the hidden state from its history; this time setting it equal to a new *tuple* variable because an LSTM has a hidden state that is a tuple of the hidden and cell states.\n",
    "* We use [`clip_grad_norm_`](https://pytorch.org/docs/stable/_modules/torch/nn/utils/clip_grad.html) to help prevent exploding gradients."
   ]
  },
  {
   "cell_type": "code",
   "execution_count": 79,
   "metadata": {},
   "outputs": [],
   "source": [
    "def train(net, data, epochs=10, batch_size=10, seq_length=50, lr=0.001, clip=5, val_frac=0.1, print_every=10):\n",
    "    ''' Training a network \n",
    "    \n",
    "        Arguments\n",
    "        ---------\n",
    "        \n",
    "        net: CharRNN network\n",
    "        data: text data to train the network\n",
    "        epochs: Number of epochs to train\n",
    "        batch_size: Number of mini-sequences per mini-batch, aka batch size\n",
    "        seq_length: Number of character steps per mini-batch\n",
    "        lr: learning rate\n",
    "        clip: gradient clipping\n",
    "        val_frac: Fraction of data to hold out for validation\n",
    "        print_every: Number of steps for printing training and validation loss\n",
    "    \n",
    "    '''\n",
    "    net.train()\n",
    "    \n",
    "    opt = torch.optim.Adam(net.parameters(), lr=lr)\n",
    "    criterion = nn.CrossEntropyLoss()\n",
    "    \n",
    "    # create training and validation data\n",
    "    val_idx = int(len(data)*(1-val_frac))\n",
    "    data, val_data = data[:val_idx], data[val_idx:]\n",
    "    \n",
    "    if(train_on_gpu):\n",
    "        net.cuda()\n",
    "    \n",
    "    counter = 0\n",
    "    n_chars = len(net.chars)\n",
    "    for e in range(epochs):\n",
    "        # initialize hidden state\n",
    "        h = net.init_hidden(batch_size)\n",
    "        \n",
    "        for x, y in get_batches(data, batch_size, seq_length):\n",
    "            counter += 1\n",
    "            \n",
    "            # One-hot encode our data and make them Torch tensors\n",
    "            x = one_hot_encode(x, n_chars)\n",
    "            inputs, targets = torch.from_numpy(x), torch.from_numpy(y)\n",
    "            \n",
    "            if(train_on_gpu):\n",
    "                inputs, targets = inputs.cuda(), targets.cuda()\n",
    "\n",
    "            # Creating new variables for the hidden state, otherwise\n",
    "            # we'd backprop through the entire training history\n",
    "            h = tuple([each.data for each in h])\n",
    "\n",
    "            # zero accumulated gradients\n",
    "            net.zero_grad()\n",
    "            \n",
    "            # get the output from the model\n",
    "            output, h = net(inputs, h)\n",
    "            \n",
    "            # calculate the loss and perform backprop\n",
    "            loss = criterion(output, targets.view(batch_size*seq_length).long())\n",
    "            loss.backward()\n",
    "            # `clip_grad_norm` helps prevent the exploding gradient problem in RNNs / LSTMs.\n",
    "            nn.utils.clip_grad_norm_(net.parameters(), clip)\n",
    "            opt.step()\n",
    "            \n",
    "            # loss stats\n",
    "            if counter % print_every == 0:\n",
    "                # Get validation loss\n",
    "                val_h = net.init_hidden(batch_size)\n",
    "                val_losses = []\n",
    "                net.eval()\n",
    "                for x, y in get_batches(val_data, batch_size, seq_length):\n",
    "                    # One-hot encode our data and make them Torch tensors\n",
    "                    x = one_hot_encode(x, n_chars)\n",
    "                    x, y = torch.from_numpy(x), torch.from_numpy(y)\n",
    "                    \n",
    "                    # Creating new variables for the hidden state, otherwise\n",
    "                    # we'd backprop through the entire training history\n",
    "                    val_h = tuple([each.data for each in val_h])\n",
    "                    \n",
    "                    inputs, targets = x, y\n",
    "                    if(train_on_gpu):\n",
    "                        inputs, targets = inputs.cuda(), targets.cuda()\n",
    "\n",
    "                    output, val_h = net(inputs, val_h)\n",
    "                    val_loss = criterion(output, targets.view(batch_size*seq_length).long())\n",
    "                \n",
    "                    val_losses.append(val_loss.item())\n",
    "                \n",
    "                net.train() # reset to train mode after iterationg through validation data\n",
    "                \n",
    "                print(\"Epoch: {}/{}...\".format(e+1, epochs),\n",
    "                      \"Step: {}...\".format(counter),\n",
    "                      \"Loss: {:.4f}...\".format(loss.item()),\n",
    "                      \"Val Loss: {:.4f}\".format(np.mean(val_losses)))"
   ]
  },
  {
   "cell_type": "markdown",
   "metadata": {},
   "source": [
    "## Instantiating the model\n",
    "\n",
    "Now we can actually train the network. First we'll create the network itself, with some given hyperparameters. Then, define the mini-batches sizes, and start training!"
   ]
  },
  {
   "cell_type": "code",
   "execution_count": 80,
   "metadata": {},
   "outputs": [
    {
     "name": "stdout",
     "output_type": "stream",
     "text": [
      "CharRNN(\n",
      "  (lstm): LSTM(83, 32, num_layers=2, batch_first=True, dropout=0.5)\n",
      "  (fc): Linear(in_features=32, out_features=83, bias=True)\n",
      "  (dropout): Dropout(p=0.5, inplace=False)\n",
      ")\n"
     ]
    }
   ],
   "source": [
    "## TODO: set your model hyperparameters\n",
    "# define and print the net\n",
    "n_hidden=32\n",
    "n_layers=2\n",
    "\n",
    "net = CharRNN(chars, n_hidden, n_layers)\n",
    "print(net)"
   ]
  },
  {
   "cell_type": "markdown",
   "metadata": {},
   "source": [
    "### Set your training hyperparameters!"
   ]
  },
  {
   "cell_type": "code",
   "execution_count": null,
   "metadata": {
    "scrolled": true
   },
   "outputs": [
    {
     "name": "stdout",
     "output_type": "stream",
     "text": [
      "Epoch: 1/9... Step: 10... Loss: 4.3585... Val Loss: 4.3513\n",
      "Epoch: 1/9... Step: 20... Loss: 4.2308... Val Loss: 4.1875\n",
      "Epoch: 1/9... Step: 30... Loss: 3.8647... Val Loss: 3.7769\n",
      "Epoch: 1/9... Step: 40... Loss: 3.5729... Val Loss: 3.4436\n",
      "Epoch: 1/9... Step: 50... Loss: 3.3746... Val Loss: 3.2890\n",
      "Epoch: 1/9... Step: 60... Loss: 3.2962... Val Loss: 3.2005\n",
      "Epoch: 1/9... Step: 70... Loss: 3.3034... Val Loss: 3.1633\n",
      "Epoch: 1/9... Step: 80... Loss: 3.2518... Val Loss: 3.1489\n",
      "Epoch: 1/9... Step: 90... Loss: 3.1873... Val Loss: 3.1410\n",
      "Epoch: 1/9... Step: 100... Loss: 3.1821... Val Loss: 3.1375\n",
      "Epoch: 1/9... Step: 110... Loss: 3.2027... Val Loss: 3.1356\n",
      "Epoch: 1/9... Step: 120... Loss: 3.2289... Val Loss: 3.1334\n",
      "Epoch: 1/9... Step: 130... Loss: 3.1376... Val Loss: 3.1316\n",
      "Epoch: 1/9... Step: 140... Loss: 3.1940... Val Loss: 3.1296\n",
      "Epoch: 1/9... Step: 150... Loss: 3.2327... Val Loss: 3.1287\n",
      "Epoch: 1/9... Step: 160... Loss: 3.1686... Val Loss: 3.1284\n",
      "Epoch: 1/9... Step: 170... Loss: 3.2321... Val Loss: 3.1283\n",
      "Epoch: 1/9... Step: 180... Loss: 3.1904... Val Loss: 3.1284\n",
      "Epoch: 1/9... Step: 190... Loss: 3.1568... Val Loss: 3.1265\n",
      "Epoch: 1/9... Step: 200... Loss: 3.1201... Val Loss: 3.1257\n",
      "Epoch: 1/9... Step: 210... Loss: 3.1793... Val Loss: 3.1243\n",
      "Epoch: 1/9... Step: 220... Loss: 3.1286... Val Loss: 3.1248\n",
      "Epoch: 1/9... Step: 230... Loss: 3.1441... Val Loss: 3.1233\n",
      "Epoch: 1/9... Step: 240... Loss: 3.1591... Val Loss: 3.1232\n",
      "Epoch: 1/9... Step: 250... Loss: 3.0578... Val Loss: 3.1224\n",
      "Epoch: 1/9... Step: 260... Loss: 3.1317... Val Loss: 3.1210\n",
      "Epoch: 1/9... Step: 270... Loss: 3.1200... Val Loss: 3.1201\n",
      "Epoch: 1/9... Step: 280... Loss: 3.1079... Val Loss: 3.1193\n",
      "Epoch: 1/9... Step: 290... Loss: 3.1254... Val Loss: 3.1184\n",
      "Epoch: 1/9... Step: 300... Loss: 3.1650... Val Loss: 3.1172\n",
      "Epoch: 1/9... Step: 310... Loss: 3.1865... Val Loss: 3.1153\n",
      "Epoch: 1/9... Step: 320... Loss: 3.1654... Val Loss: 3.1136\n",
      "Epoch: 1/9... Step: 330... Loss: 3.0948... Val Loss: 3.1117\n",
      "Epoch: 1/9... Step: 340... Loss: 3.0935... Val Loss: 3.1100\n",
      "Epoch: 1/9... Step: 350... Loss: 3.1418... Val Loss: 3.1074\n",
      "Epoch: 1/9... Step: 360... Loss: 3.1035... Val Loss: 3.1042\n",
      "Epoch: 1/9... Step: 370... Loss: 3.1445... Val Loss: 3.1015\n",
      "Epoch: 1/9... Step: 380... Loss: 3.2166... Val Loss: 3.1006\n",
      "Epoch: 1/9... Step: 390... Loss: 3.1328... Val Loss: 3.0963\n",
      "Epoch: 1/9... Step: 400... Loss: 3.1389... Val Loss: 3.0911\n",
      "Epoch: 1/9... Step: 410... Loss: 3.0412... Val Loss: 3.0874\n",
      "Epoch: 1/9... Step: 420... Loss: 3.0681... Val Loss: 3.0802\n",
      "Epoch: 1/9... Step: 430... Loss: 3.0153... Val Loss: 3.0741\n",
      "Epoch: 1/9... Step: 440... Loss: 3.0972... Val Loss: 3.0671\n",
      "Epoch: 1/9... Step: 450... Loss: 3.0635... Val Loss: 3.0605\n",
      "Epoch: 1/9... Step: 460... Loss: 3.0816... Val Loss: 3.0522\n",
      "Epoch: 1/9... Step: 470... Loss: 3.0355... Val Loss: 3.0465\n",
      "Epoch: 1/9... Step: 480... Loss: 3.0483... Val Loss: 3.0354\n",
      "Epoch: 1/9... Step: 490... Loss: 3.0768... Val Loss: 3.0234\n",
      "Epoch: 1/9... Step: 500... Loss: 3.0499... Val Loss: 3.0133\n",
      "Epoch: 1/9... Step: 510... Loss: 2.9675... Val Loss: 3.0030\n",
      "Epoch: 1/9... Step: 520... Loss: 3.0379... Val Loss: 2.9907\n",
      "Epoch: 1/9... Step: 530... Loss: 2.9899... Val Loss: 2.9814\n",
      "Epoch: 1/9... Step: 540... Loss: 2.9536... Val Loss: 2.9722\n",
      "Epoch: 1/9... Step: 550... Loss: 2.9718... Val Loss: 2.9658\n",
      "Epoch: 1/9... Step: 560... Loss: 2.9839... Val Loss: 2.9585\n",
      "Epoch: 1/9... Step: 570... Loss: 2.9238... Val Loss: 2.9461\n",
      "Epoch: 1/9... Step: 580... Loss: 2.9749... Val Loss: 2.9389\n",
      "Epoch: 1/9... Step: 590... Loss: 3.0197... Val Loss: 2.9316\n",
      "Epoch: 1/9... Step: 600... Loss: 2.9695... Val Loss: 2.9247\n",
      "Epoch: 1/9... Step: 610... Loss: 2.9268... Val Loss: 2.9184\n",
      "Epoch: 1/9... Step: 620... Loss: 2.9842... Val Loss: 2.9142\n",
      "Epoch: 1/9... Step: 630... Loss: 2.9213... Val Loss: 2.9059\n",
      "Epoch: 1/9... Step: 640... Loss: 2.9786... Val Loss: 2.9009\n",
      "Epoch: 1/9... Step: 650... Loss: 2.9405... Val Loss: 2.8950\n",
      "Epoch: 1/9... Step: 660... Loss: 2.9610... Val Loss: 2.8927\n",
      "Epoch: 1/9... Step: 670... Loss: 2.9507... Val Loss: 2.8897\n",
      "Epoch: 1/9... Step: 680... Loss: 2.9638... Val Loss: 2.8808\n",
      "Epoch: 1/9... Step: 690... Loss: 2.8848... Val Loss: 2.8773\n",
      "Epoch: 1/9... Step: 700... Loss: 2.9074... Val Loss: 2.8725\n",
      "Epoch: 1/9... Step: 710... Loss: 2.8918... Val Loss: 2.8714\n",
      "Epoch: 1/9... Step: 720... Loss: 2.8710... Val Loss: 2.8658\n",
      "Epoch: 1/9... Step: 730... Loss: 2.8896... Val Loss: 2.8600\n",
      "Epoch: 1/9... Step: 740... Loss: 2.8735... Val Loss: 2.8557\n",
      "Epoch: 1/9... Step: 750... Loss: 2.8482... Val Loss: 2.8528\n",
      "Epoch: 1/9... Step: 760... Loss: 2.8799... Val Loss: 2.8469\n",
      "Epoch: 1/9... Step: 770... Loss: 2.8383... Val Loss: 2.8536\n",
      "Epoch: 1/9... Step: 780... Loss: 2.8609... Val Loss: 2.8445\n",
      "Epoch: 1/9... Step: 790... Loss: 2.8360... Val Loss: 2.8419\n",
      "Epoch: 1/9... Step: 800... Loss: 2.8560... Val Loss: 2.8341\n",
      "Epoch: 1/9... Step: 810... Loss: 2.8320... Val Loss: 2.8282\n",
      "Epoch: 1/9... Step: 820... Loss: 2.8225... Val Loss: 2.8241\n",
      "Epoch: 1/9... Step: 830... Loss: 2.9007... Val Loss: 2.8198\n",
      "Epoch: 1/9... Step: 840... Loss: 2.8491... Val Loss: 2.8181\n",
      "Epoch: 1/9... Step: 850... Loss: 2.9092... Val Loss: 2.8140\n",
      "Epoch: 1/9... Step: 860... Loss: 2.8496... Val Loss: 2.8086\n",
      "Epoch: 1/9... Step: 870... Loss: 2.8681... Val Loss: 2.8112\n",
      "Epoch: 1/9... Step: 880... Loss: 2.8732... Val Loss: 2.8093\n",
      "Epoch: 1/9... Step: 890... Loss: 2.9017... Val Loss: 2.8062\n",
      "Epoch: 1/9... Step: 900... Loss: 2.8171... Val Loss: 2.8039\n",
      "Epoch: 1/9... Step: 910... Loss: 2.8557... Val Loss: 2.7973\n",
      "Epoch: 1/9... Step: 920... Loss: 2.8958... Val Loss: 2.7934\n",
      "Epoch: 1/9... Step: 930... Loss: 2.8327... Val Loss: 2.7862\n",
      "Epoch: 1/9... Step: 940... Loss: 2.8325... Val Loss: 2.7888\n",
      "Epoch: 1/9... Step: 950... Loss: 2.8651... Val Loss: 2.7821\n",
      "Epoch: 1/9... Step: 960... Loss: 2.8601... Val Loss: 2.7755\n",
      "Epoch: 1/9... Step: 970... Loss: 2.8206... Val Loss: 2.7723\n",
      "Epoch: 1/9... Step: 980... Loss: 2.7995... Val Loss: 2.7677\n",
      "Epoch: 1/9... Step: 990... Loss: 2.9121... Val Loss: 2.7640\n",
      "Epoch: 1/9... Step: 1000... Loss: 2.8015... Val Loss: 2.7707\n",
      "Epoch: 1/9... Step: 1010... Loss: 2.9598... Val Loss: 2.7595\n",
      "Epoch: 1/9... Step: 1020... Loss: 2.8677... Val Loss: 2.7619\n",
      "Epoch: 1/9... Step: 1030... Loss: 2.8031... Val Loss: 2.7527\n",
      "Epoch: 1/9... Step: 1040... Loss: 2.9164... Val Loss: 2.7492\n",
      "Epoch: 1/9... Step: 1050... Loss: 2.8352... Val Loss: 2.7442\n",
      "Epoch: 1/9... Step: 1060... Loss: 2.8332... Val Loss: 2.7401\n",
      "Epoch: 1/9... Step: 1070... Loss: 2.7955... Val Loss: 2.7370\n",
      "Epoch: 1/9... Step: 1080... Loss: 2.7687... Val Loss: 2.7344\n",
      "Epoch: 1/9... Step: 1090... Loss: 2.7519... Val Loss: 2.7315\n",
      "Epoch: 1/9... Step: 1100... Loss: 2.7285... Val Loss: 2.7276\n",
      "Epoch: 1/9... Step: 1110... Loss: 2.8391... Val Loss: 2.7232\n",
      "Epoch: 1/9... Step: 1120... Loss: 2.7660... Val Loss: 2.7192\n",
      "Epoch: 1/9... Step: 1130... Loss: 2.7383... Val Loss: 2.7154\n",
      "Epoch: 1/9... Step: 1140... Loss: 2.8240... Val Loss: 2.7112\n",
      "Epoch: 1/9... Step: 1150... Loss: 2.7775... Val Loss: 2.7056\n",
      "Epoch: 1/9... Step: 1160... Loss: 2.7685... Val Loss: 2.7019\n",
      "Epoch: 1/9... Step: 1170... Loss: 2.7082... Val Loss: 2.6974\n",
      "Epoch: 1/9... Step: 1180... Loss: 2.8057... Val Loss: 2.6945\n",
      "Epoch: 1/9... Step: 1190... Loss: 2.7625... Val Loss: 2.6899\n",
      "Epoch: 1/9... Step: 1200... Loss: 2.7391... Val Loss: 2.6849\n",
      "Epoch: 1/9... Step: 1210... Loss: 2.6755... Val Loss: 2.6828\n",
      "Epoch: 1/9... Step: 1220... Loss: 2.7477... Val Loss: 2.6750\n",
      "Epoch: 1/9... Step: 1230... Loss: 2.7361... Val Loss: 2.6699\n",
      "Epoch: 1/9... Step: 1240... Loss: 2.7280... Val Loss: 2.6686\n",
      "Epoch: 1/9... Step: 1250... Loss: 2.7183... Val Loss: 2.6631\n",
      "Epoch: 1/9... Step: 1260... Loss: 2.7238... Val Loss: 2.6563\n",
      "Epoch: 1/9... Step: 1270... Loss: 2.7609... Val Loss: 2.6533\n",
      "Epoch: 1/9... Step: 1280... Loss: 2.7344... Val Loss: 2.6503\n",
      "Epoch: 1/9... Step: 1290... Loss: 2.7061... Val Loss: 2.6455\n",
      "Epoch: 1/9... Step: 1300... Loss: 2.6691... Val Loss: 2.6439\n",
      "Epoch: 1/9... Step: 1310... Loss: 2.6390... Val Loss: 2.6358\n",
      "Epoch: 1/9... Step: 1320... Loss: 2.7786... Val Loss: 2.6312\n",
      "Epoch: 1/9... Step: 1330... Loss: 2.7407... Val Loss: 2.6270\n",
      "Epoch: 1/9... Step: 1340... Loss: 2.6807... Val Loss: 2.6223\n",
      "Epoch: 1/9... Step: 1350... Loss: 2.6483... Val Loss: 2.6188\n",
      "Epoch: 1/9... Step: 1360... Loss: 2.7132... Val Loss: 2.6143\n",
      "Epoch: 1/9... Step: 1370... Loss: 2.6536... Val Loss: 2.6147\n"
     ]
    },
    {
     "name": "stdout",
     "output_type": "stream",
     "text": [
      "Epoch: 1/9... Step: 1380... Loss: 2.7323... Val Loss: 2.6076\n",
      "Epoch: 1/9... Step: 1390... Loss: 2.7314... Val Loss: 2.6063\n",
      "Epoch: 1/9... Step: 1400... Loss: 2.6262... Val Loss: 2.5998\n",
      "Epoch: 1/9... Step: 1410... Loss: 2.7029... Val Loss: 2.5972\n",
      "Epoch: 1/9... Step: 1420... Loss: 2.6114... Val Loss: 2.5933\n",
      "Epoch: 1/9... Step: 1430... Loss: 2.6917... Val Loss: 2.5892\n",
      "Epoch: 1/9... Step: 1440... Loss: 2.6626... Val Loss: 2.5874\n",
      "Epoch: 1/9... Step: 1450... Loss: 2.6183... Val Loss: 2.5853\n",
      "Epoch: 1/9... Step: 1460... Loss: 2.6770... Val Loss: 2.5796\n",
      "Epoch: 1/9... Step: 1470... Loss: 2.6433... Val Loss: 2.5769\n",
      "Epoch: 1/9... Step: 1480... Loss: 2.7054... Val Loss: 2.5744\n",
      "Epoch: 1/9... Step: 1490... Loss: 2.6665... Val Loss: 2.5731\n",
      "Epoch: 1/9... Step: 1500... Loss: 2.6427... Val Loss: 2.5686\n",
      "Epoch: 1/9... Step: 1510... Loss: 2.6570... Val Loss: 2.5661\n",
      "Epoch: 1/9... Step: 1520... Loss: 2.6591... Val Loss: 2.5648\n",
      "Epoch: 1/9... Step: 1530... Loss: 2.6451... Val Loss: 2.5614\n",
      "Epoch: 1/9... Step: 1540... Loss: 2.6458... Val Loss: 2.5581\n",
      "Epoch: 1/9... Step: 1550... Loss: 2.6495... Val Loss: 2.5552\n",
      "Epoch: 1/9... Step: 1560... Loss: 2.6234... Val Loss: 2.5552\n",
      "Epoch: 1/9... Step: 1570... Loss: 2.7332... Val Loss: 2.5513\n",
      "Epoch: 1/9... Step: 1580... Loss: 2.7396... Val Loss: 2.5472\n",
      "Epoch: 1/9... Step: 1590... Loss: 2.6016... Val Loss: 2.5470\n",
      "Epoch: 1/9... Step: 1600... Loss: 2.6977... Val Loss: 2.5433\n",
      "Epoch: 1/9... Step: 1610... Loss: 2.6506... Val Loss: 2.5410\n",
      "Epoch: 1/9... Step: 1620... Loss: 2.7096... Val Loss: 2.5399\n",
      "Epoch: 1/9... Step: 1630... Loss: 2.6430... Val Loss: 2.5378\n",
      "Epoch: 1/9... Step: 1640... Loss: 2.6539... Val Loss: 2.5374\n",
      "Epoch: 1/9... Step: 1650... Loss: 2.6446... Val Loss: 2.5347\n",
      "Epoch: 1/9... Step: 1660... Loss: 2.6934... Val Loss: 2.5322\n",
      "Epoch: 1/9... Step: 1670... Loss: 2.5991... Val Loss: 2.5294\n",
      "Epoch: 1/9... Step: 1680... Loss: 2.6292... Val Loss: 2.5288\n",
      "Epoch: 1/9... Step: 1690... Loss: 2.6460... Val Loss: 2.5260\n",
      "Epoch: 1/9... Step: 1700... Loss: 2.5680... Val Loss: 2.5243\n",
      "Epoch: 1/9... Step: 1710... Loss: 2.5876... Val Loss: 2.5253\n",
      "Epoch: 1/9... Step: 1720... Loss: 2.6307... Val Loss: 2.5222\n",
      "Epoch: 1/9... Step: 1730... Loss: 2.5838... Val Loss: 2.5180\n",
      "Epoch: 1/9... Step: 1740... Loss: 2.6465... Val Loss: 2.5164\n",
      "Epoch: 1/9... Step: 1750... Loss: 2.5636... Val Loss: 2.5158\n",
      "Epoch: 1/9... Step: 1760... Loss: 2.5828... Val Loss: 2.5151\n",
      "Epoch: 1/9... Step: 1770... Loss: 2.6228... Val Loss: 2.5142\n",
      "Epoch: 1/9... Step: 1780... Loss: 2.6040... Val Loss: 2.5116\n",
      "Epoch: 2/9... Step: 1790... Loss: 2.6142... Val Loss: 2.5095\n",
      "Epoch: 2/9... Step: 1800... Loss: 2.6119... Val Loss: 2.5114\n",
      "Epoch: 2/9... Step: 1810... Loss: 2.5708... Val Loss: 2.5068\n",
      "Epoch: 2/9... Step: 1820... Loss: 2.6078... Val Loss: 2.5058\n",
      "Epoch: 2/9... Step: 1830... Loss: 2.5880... Val Loss: 2.5057\n",
      "Epoch: 2/9... Step: 1840... Loss: 2.5718... Val Loss: 2.5033\n",
      "Epoch: 2/9... Step: 1850... Loss: 2.5770... Val Loss: 2.5046\n",
      "Epoch: 2/9... Step: 1860... Loss: 2.4983... Val Loss: 2.5008\n",
      "Epoch: 2/9... Step: 1870... Loss: 2.6098... Val Loss: 2.5022\n",
      "Epoch: 2/9... Step: 1880... Loss: 2.6338... Val Loss: 2.5019\n",
      "Epoch: 2/9... Step: 1890... Loss: 2.5956... Val Loss: 2.4977\n",
      "Epoch: 2/9... Step: 1900... Loss: 2.5231... Val Loss: 2.4964\n",
      "Epoch: 2/9... Step: 1910... Loss: 2.5777... Val Loss: 2.4972\n",
      "Epoch: 2/9... Step: 1920... Loss: 2.5543... Val Loss: 2.4941\n",
      "Epoch: 2/9... Step: 1930... Loss: 2.5597... Val Loss: 2.4909\n",
      "Epoch: 2/9... Step: 1940... Loss: 2.6579... Val Loss: 2.4907\n",
      "Epoch: 2/9... Step: 1950... Loss: 2.5530... Val Loss: 2.4945\n",
      "Epoch: 2/9... Step: 1960... Loss: 2.5912... Val Loss: 2.4916\n",
      "Epoch: 2/9... Step: 1970... Loss: 2.6094... Val Loss: 2.4884\n",
      "Epoch: 2/9... Step: 1980... Loss: 2.6371... Val Loss: 2.4868\n",
      "Epoch: 2/9... Step: 1990... Loss: 2.5850... Val Loss: 2.4842\n",
      "Epoch: 2/9... Step: 2000... Loss: 2.5520... Val Loss: 2.4829\n",
      "Epoch: 2/9... Step: 2010... Loss: 2.5618... Val Loss: 2.4842\n",
      "Epoch: 2/9... Step: 2020... Loss: 2.4364... Val Loss: 2.4832\n",
      "Epoch: 2/9... Step: 2030... Loss: 2.5133... Val Loss: 2.4789\n",
      "Epoch: 2/9... Step: 2040... Loss: 2.6360... Val Loss: 2.4790\n",
      "Epoch: 2/9... Step: 2050... Loss: 2.5546... Val Loss: 2.4794\n",
      "Epoch: 2/9... Step: 2060... Loss: 2.5932... Val Loss: 2.4781\n",
      "Epoch: 2/9... Step: 2070... Loss: 2.5337... Val Loss: 2.4738\n",
      "Epoch: 2/9... Step: 2080... Loss: 2.5280... Val Loss: 2.4743\n",
      "Epoch: 2/9... Step: 2090... Loss: 2.5478... Val Loss: 2.4706\n",
      "Epoch: 2/9... Step: 2100... Loss: 2.4963... Val Loss: 2.4699\n",
      "Epoch: 2/9... Step: 2110... Loss: 2.5954... Val Loss: 2.4728\n",
      "Epoch: 2/9... Step: 2120... Loss: 2.5819... Val Loss: 2.4703\n",
      "Epoch: 2/9... Step: 2130... Loss: 2.5340... Val Loss: 2.4673\n",
      "Epoch: 2/9... Step: 2140... Loss: 2.5552... Val Loss: 2.4656\n",
      "Epoch: 2/9... Step: 2150... Loss: 2.6388... Val Loss: 2.4644\n",
      "Epoch: 2/9... Step: 2160... Loss: 2.5895... Val Loss: 2.4680\n",
      "Epoch: 2/9... Step: 2170... Loss: 2.5218... Val Loss: 2.4644\n",
      "Epoch: 2/9... Step: 2180... Loss: 2.5541... Val Loss: 2.4660\n",
      "Epoch: 2/9... Step: 2190... Loss: 2.5377... Val Loss: 2.4605\n",
      "Epoch: 2/9... Step: 2200... Loss: 2.4997... Val Loss: 2.4669\n",
      "Epoch: 2/9... Step: 2210... Loss: 2.5917... Val Loss: 2.4589\n",
      "Epoch: 2/9... Step: 2220... Loss: 2.5174... Val Loss: 2.4589\n",
      "Epoch: 2/9... Step: 2230... Loss: 2.5410... Val Loss: 2.4587\n",
      "Epoch: 2/9... Step: 2240... Loss: 2.5312... Val Loss: 2.4602\n",
      "Epoch: 2/9... Step: 2250... Loss: 2.5419... Val Loss: 2.4556\n",
      "Epoch: 2/9... Step: 2260... Loss: 2.5280... Val Loss: 2.4547\n",
      "Epoch: 2/9... Step: 2270... Loss: 2.5161... Val Loss: 2.4510\n",
      "Epoch: 2/9... Step: 2280... Loss: 2.5327... Val Loss: 2.4505\n",
      "Epoch: 2/9... Step: 2290... Loss: 2.5476... Val Loss: 2.4480\n",
      "Epoch: 2/9... Step: 2300... Loss: 2.4605... Val Loss: 2.4503\n",
      "Epoch: 2/9... Step: 2310... Loss: 2.4412... Val Loss: 2.4467\n",
      "Epoch: 2/9... Step: 2320... Loss: 2.4931... Val Loss: 2.4463\n",
      "Epoch: 2/9... Step: 2330... Loss: 2.4960... Val Loss: 2.4471\n",
      "Epoch: 2/9... Step: 2340... Loss: 2.6454... Val Loss: 2.4499\n",
      "Epoch: 2/9... Step: 2350... Loss: 2.5025... Val Loss: 2.4452\n",
      "Epoch: 2/9... Step: 2360... Loss: 2.5565... Val Loss: 2.4468\n",
      "Epoch: 2/9... Step: 2370... Loss: 2.5330... Val Loss: 2.4434\n",
      "Epoch: 2/9... Step: 2380... Loss: 2.5029... Val Loss: 2.4434\n",
      "Epoch: 2/9... Step: 2390... Loss: 2.5421... Val Loss: 2.4402\n",
      "Epoch: 2/9... Step: 2400... Loss: 2.4771... Val Loss: 2.4411\n",
      "Epoch: 2/9... Step: 2410... Loss: 2.4621... Val Loss: 2.4411\n",
      "Epoch: 2/9... Step: 2420... Loss: 2.4970... Val Loss: 2.4374\n",
      "Epoch: 2/9... Step: 2430... Loss: 2.5592... Val Loss: 2.4371\n",
      "Epoch: 2/9... Step: 2440... Loss: 2.4629... Val Loss: 2.4369\n",
      "Epoch: 2/9... Step: 2450... Loss: 2.6085... Val Loss: 2.4345\n",
      "Epoch: 2/9... Step: 2460... Loss: 2.6075... Val Loss: 2.4355\n",
      "Epoch: 2/9... Step: 2470... Loss: 2.4902... Val Loss: 2.4317\n",
      "Epoch: 2/9... Step: 2480... Loss: 2.5349... Val Loss: 2.4313\n",
      "Epoch: 2/9... Step: 2490... Loss: 2.5612... Val Loss: 2.4301\n",
      "Epoch: 2/9... Step: 2500... Loss: 2.5202... Val Loss: 2.4305\n",
      "Epoch: 2/9... Step: 2510... Loss: 2.5795... Val Loss: 2.4283\n",
      "Epoch: 2/9... Step: 2520... Loss: 2.4701... Val Loss: 2.4274\n",
      "Epoch: 2/9... Step: 2530... Loss: 2.5047... Val Loss: 2.4265\n",
      "Epoch: 2/9... Step: 2540... Loss: 2.5116... Val Loss: 2.4256\n",
      "Epoch: 2/9... Step: 2550... Loss: 2.4856... Val Loss: 2.4262\n",
      "Epoch: 2/9... Step: 2560... Loss: 2.5299... Val Loss: 2.4229\n",
      "Epoch: 2/9... Step: 2570... Loss: 2.5555... Val Loss: 2.4239\n",
      "Epoch: 2/9... Step: 2580... Loss: 2.4572... Val Loss: 2.4220\n",
      "Epoch: 2/9... Step: 2590... Loss: 2.5278... Val Loss: 2.4212\n",
      "Epoch: 2/9... Step: 2600... Loss: 2.4822... Val Loss: 2.4239\n",
      "Epoch: 2/9... Step: 2610... Loss: 2.4953... Val Loss: 2.4221\n",
      "Epoch: 2/9... Step: 2620... Loss: 2.5091... Val Loss: 2.4193\n",
      "Epoch: 2/9... Step: 2630... Loss: 2.4837... Val Loss: 2.4171\n",
      "Epoch: 2/9... Step: 2640... Loss: 2.4321... Val Loss: 2.4187\n",
      "Epoch: 2/9... Step: 2650... Loss: 2.5400... Val Loss: 2.4167\n",
      "Epoch: 2/9... Step: 2660... Loss: 2.5441... Val Loss: 2.4156\n",
      "Epoch: 2/9... Step: 2670... Loss: 2.4604... Val Loss: 2.4171\n",
      "Epoch: 2/9... Step: 2680... Loss: 2.4911... Val Loss: 2.4146\n",
      "Epoch: 2/9... Step: 2690... Loss: 2.4962... Val Loss: 2.4139\n",
      "Epoch: 2/9... Step: 2700... Loss: 2.5870... Val Loss: 2.4148\n",
      "Epoch: 2/9... Step: 2710... Loss: 2.5627... Val Loss: 2.4108\n",
      "Epoch: 2/9... Step: 2720... Loss: 2.5022... Val Loss: 2.4100\n"
     ]
    },
    {
     "name": "stdout",
     "output_type": "stream",
     "text": [
      "Epoch: 2/9... Step: 2730... Loss: 2.4681... Val Loss: 2.4105\n",
      "Epoch: 2/9... Step: 2740... Loss: 2.5563... Val Loss: 2.4094\n",
      "Epoch: 2/9... Step: 2750... Loss: 2.4941... Val Loss: 2.4074\n",
      "Epoch: 2/9... Step: 2760... Loss: 2.4419... Val Loss: 2.4072\n",
      "Epoch: 2/9... Step: 2770... Loss: 2.4590... Val Loss: 2.4067\n",
      "Epoch: 2/9... Step: 2780... Loss: 2.5631... Val Loss: 2.4060\n",
      "Epoch: 2/9... Step: 2790... Loss: 2.4816... Val Loss: 2.4064\n",
      "Epoch: 2/9... Step: 2800... Loss: 2.5272... Val Loss: 2.4057\n",
      "Epoch: 2/9... Step: 2810... Loss: 2.5381... Val Loss: 2.4055\n",
      "Epoch: 2/9... Step: 2820... Loss: 2.4769... Val Loss: 2.4055\n",
      "Epoch: 2/9... Step: 2830... Loss: 2.4968... Val Loss: 2.4040\n",
      "Epoch: 2/9... Step: 2840... Loss: 2.4272... Val Loss: 2.4011\n",
      "Epoch: 2/9... Step: 2850... Loss: 2.5843... Val Loss: 2.4006\n",
      "Epoch: 2/9... Step: 2860... Loss: 2.5234... Val Loss: 2.4018\n",
      "Epoch: 2/9... Step: 2870... Loss: 2.4737... Val Loss: 2.3988\n",
      "Epoch: 2/9... Step: 2880... Loss: 2.5207... Val Loss: 2.3987\n",
      "Epoch: 2/9... Step: 2890... Loss: 2.5209... Val Loss: 2.3993\n",
      "Epoch: 2/9... Step: 2900... Loss: 2.4260... Val Loss: 2.3962\n",
      "Epoch: 2/9... Step: 2910... Loss: 2.4646... Val Loss: 2.3969\n",
      "Epoch: 2/9... Step: 2920... Loss: 2.5498... Val Loss: 2.3942\n",
      "Epoch: 2/9... Step: 2930... Loss: 2.5174... Val Loss: 2.3944\n",
      "Epoch: 2/9... Step: 2940... Loss: 2.5417... Val Loss: 2.3926\n",
      "Epoch: 2/9... Step: 2950... Loss: 2.5087... Val Loss: 2.3963\n",
      "Epoch: 2/9... Step: 2960... Loss: 2.4936... Val Loss: 2.3901\n",
      "Epoch: 2/9... Step: 2970... Loss: 2.5454... Val Loss: 2.3897\n",
      "Epoch: 2/9... Step: 2980... Loss: 2.5188... Val Loss: 2.3911\n",
      "Epoch: 2/9... Step: 2990... Loss: 2.5493... Val Loss: 2.3893\n",
      "Epoch: 2/9... Step: 3000... Loss: 2.4288... Val Loss: 2.3878\n",
      "Epoch: 2/9... Step: 3010... Loss: 2.5668... Val Loss: 2.3860\n",
      "Epoch: 2/9... Step: 3020... Loss: 2.5159... Val Loss: 2.3861\n",
      "Epoch: 2/9... Step: 3030... Loss: 2.4946... Val Loss: 2.3877\n",
      "Epoch: 2/9... Step: 3040... Loss: 2.4881... Val Loss: 2.3848\n",
      "Epoch: 2/9... Step: 3050... Loss: 2.5338... Val Loss: 2.3887\n",
      "Epoch: 2/9... Step: 3060... Loss: 2.5228... Val Loss: 2.3856\n"
     ]
    }
   ],
   "source": [
    "batch_size = 20\n",
    "seq_length = 50\n",
    "n_epochs = 9 # start small if you are just testing initial behavior\n",
    "\n",
    "# train the model\n",
    "train(net, encoded, epochs=n_epochs, batch_size=batch_size, seq_length=seq_length, lr=0.001, print_every=10)"
   ]
  },
  {
   "cell_type": "markdown",
   "metadata": {},
   "source": [
    "## Getting the best model\n",
    "\n",
    "To set your hyperparameters to get the best performance, you'll want to watch the training and validation losses. If your training loss is much lower than the validation loss, you're overfitting. Increase regularization (more dropout) or use a smaller network. If the training and validation losses are close, you're underfitting so you can increase the size of the network."
   ]
  },
  {
   "cell_type": "markdown",
   "metadata": {},
   "source": [
    "## Hyperparameters\n",
    "\n",
    "Here are the hyperparameters for the network.\n",
    "\n",
    "In defining the model:\n",
    "* `n_hidden` - The number of units in the hidden layers.\n",
    "* `n_layers` - Number of hidden LSTM layers to use.\n",
    "\n",
    "We assume that dropout probability and learning rate will be kept at the default, in this example.\n",
    "\n",
    "And in training:\n",
    "* `batch_size` - Number of sequences running through the network in one pass.\n",
    "* `seq_length` - Number of characters in the sequence the network is trained on. Larger is better typically, the network will learn more long range dependencies. But it takes longer to train. 100 is typically a good number here.\n",
    "* `lr` - Learning rate for training\n",
    "\n",
    "Here's some good advice from Andrej Karpathy on training the network. I'm going to copy it in here for your benefit, but also link to [where it originally came from](https://github.com/karpathy/char-rnn#tips-and-tricks).\n",
    "\n",
    "> ## Tips and Tricks\n",
    "\n",
    ">### Monitoring Validation Loss vs. Training Loss\n",
    ">If you're somewhat new to Machine Learning or Neural Networks it can take a bit of expertise to get good models. The most important quantity to keep track of is the difference between your training loss (printed during training) and the validation loss (printed once in a while when the RNN is run on the validation data (by default every 1000 iterations)). In particular:\n",
    "\n",
    "> - If your training loss is much lower than validation loss then this means the network might be **overfitting**. Solutions to this are to decrease your network size, or to increase dropout. For example you could try dropout of 0.5 and so on.\n",
    "> - If your training/validation loss are about equal then your model is **underfitting**. Increase the size of your model (either number of layers or the raw number of neurons per layer)\n",
    "\n",
    "> ### Approximate number of parameters\n",
    "\n",
    "> The two most important parameters that control the model are `n_hidden` and `n_layers`. I would advise that you always use `n_layers` of either 2/3. The `n_hidden` can be adjusted based on how much data you have. The two important quantities to keep track of here are:\n",
    "\n",
    "> - The number of parameters in your model. This is printed when you start training.\n",
    "> - The size of your dataset. 1MB file is approximately 1 million characters.\n",
    "\n",
    ">These two should be about the same order of magnitude. It's a little tricky to tell. Here are some examples:\n",
    "\n",
    "> - I have a 100MB dataset and I'm using the default parameter settings (which currently print 150K parameters). My data size is significantly larger (100 mil >> 0.15 mil), so I expect to heavily underfit. I am thinking I can comfortably afford to make `n_hidden` larger.\n",
    "> - I have a 10MB dataset and running a 10 million parameter model. I'm slightly nervous and I'm carefully monitoring my validation loss. If it's larger than my training loss then I may want to try to increase dropout a bit and see if that helps the validation loss.\n",
    "\n",
    "> ### Best models strategy\n",
    "\n",
    ">The winning strategy to obtaining very good models (if you have the compute time) is to always err on making the network larger (as large as you're willing to wait for it to compute) and then try different dropout values (between 0,1). Whatever model has the best validation performance (the loss, written in the checkpoint filename, low is good) is the one you should use in the end.\n",
    "\n",
    ">It is very common in deep learning to run many different models with many different hyperparameter settings, and in the end take whatever checkpoint gave the best validation performance.\n",
    "\n",
    ">By the way, the size of your training and validation splits are also parameters. Make sure you have a decent amount of data in your validation set or otherwise the validation performance will be noisy and not very informative."
   ]
  },
  {
   "cell_type": "markdown",
   "metadata": {},
   "source": [
    "## Checkpoint\n",
    "\n",
    "After training, we'll save the model so we can load it again later if we need too. Here I'm saving the parameters needed to create the same architecture, the hidden layer hyperparameters and the text characters."
   ]
  },
  {
   "cell_type": "code",
   "execution_count": null,
   "metadata": {},
   "outputs": [],
   "source": [
    "# change the name, for saving multiple files\n",
    "model_name = 'rnn_x_epoch.net'\n",
    "\n",
    "checkpoint = {'n_hidden': net.n_hidden,\n",
    "              'n_layers': net.n_layers,\n",
    "              'state_dict': net.state_dict(),\n",
    "              'tokens': net.chars}\n",
    "\n",
    "with open(model_name, 'wb') as f:\n",
    "    torch.save(checkpoint, f)"
   ]
  },
  {
   "cell_type": "markdown",
   "metadata": {},
   "source": [
    "---\n",
    "## Making Predictions\n",
    "\n",
    "Now that the model is trained, we'll want to sample from it and make predictions about next characters! To sample, we pass in a character and have the network predict the next character. Then we take that character, pass it back in, and get another predicted character. Just keep doing this and you'll generate a bunch of text!\n",
    "\n",
    "### A note on the `predict`  function\n",
    "\n",
    "The output of our RNN is from a fully-connected layer and it outputs a **distribution of next-character scores**.\n",
    "\n",
    "> To actually get the next character, we apply a softmax function, which gives us a *probability* distribution that we can then sample to predict the next character.\n",
    "\n",
    "### Top K sampling\n",
    "\n",
    "Our predictions come from a categorical probability distribution over all the possible characters. We can make the sample text and make it more reasonable to handle (with less variables) by only considering some $K$ most probable characters. This will prevent the network from giving us completely absurd characters while allowing it to introduce some noise and randomness into the sampled text. Read more about [topk, here](https://pytorch.org/docs/stable/torch.html#torch.topk).\n"
   ]
  },
  {
   "cell_type": "code",
   "execution_count": null,
   "metadata": {
    "collapsed": true
   },
   "outputs": [],
   "source": [
    "def predict(net, char, h=None, top_k=None):\n",
    "        ''' Given a character, predict the next character.\n",
    "            Returns the predicted character and the hidden state.\n",
    "        '''\n",
    "        \n",
    "        # tensor inputs\n",
    "        x = np.array([[net.char2int[char]]])\n",
    "        x = one_hot_encode(x, len(net.chars))\n",
    "        inputs = torch.from_numpy(x)\n",
    "        \n",
    "        if(train_on_gpu):\n",
    "            inputs = inputs.cuda()\n",
    "        \n",
    "        # detach hidden state from history\n",
    "        h = tuple([each.data for each in h])\n",
    "        # get the output of the model\n",
    "        out, h = net(inputs, h)\n",
    "\n",
    "        # get the character probabilities\n",
    "        p = F.softmax(out, dim=1).data\n",
    "        if(train_on_gpu):\n",
    "            p = p.cpu() # move to cpu\n",
    "        \n",
    "        # get top characters\n",
    "        if top_k is None:\n",
    "            top_ch = np.arange(len(net.chars))\n",
    "        else:\n",
    "            p, top_ch = p.topk(top_k)\n",
    "            top_ch = top_ch.numpy().squeeze()\n",
    "        \n",
    "        # select the likely next character with some element of randomness\n",
    "        p = p.numpy().squeeze()\n",
    "        char = np.random.choice(top_ch, p=p/p.sum())\n",
    "        \n",
    "        # return the encoded value of the predicted char and the hidden state\n",
    "        return net.int2char[char], h"
   ]
  },
  {
   "cell_type": "markdown",
   "metadata": {},
   "source": [
    "### Priming and generating text \n",
    "\n",
    "Typically you'll want to prime the network so you can build up a hidden state. Otherwise the network will start out generating characters at random. In general the first bunch of characters will be a little rough since it hasn't built up a long history of characters to predict from."
   ]
  },
  {
   "cell_type": "code",
   "execution_count": null,
   "metadata": {
    "collapsed": true
   },
   "outputs": [],
   "source": [
    "def sample(net, size, prime='The', top_k=None):\n",
    "        \n",
    "    if(train_on_gpu):\n",
    "        net.cuda()\n",
    "    else:\n",
    "        net.cpu()\n",
    "    \n",
    "    net.eval() # eval mode\n",
    "    \n",
    "    # First off, run through the prime characters\n",
    "    chars = [ch for ch in prime]\n",
    "    h = net.init_hidden(1)\n",
    "    for ch in prime:\n",
    "        char, h = predict(net, ch, h, top_k=top_k)\n",
    "\n",
    "    chars.append(char)\n",
    "    \n",
    "    # Now pass in the previous character and get a new one\n",
    "    for ii in range(size):\n",
    "        char, h = predict(net, chars[-1], h, top_k=top_k)\n",
    "        chars.append(char)\n",
    "\n",
    "    return ''.join(chars)"
   ]
  },
  {
   "cell_type": "code",
   "execution_count": null,
   "metadata": {
    "collapsed": true
   },
   "outputs": [],
   "source": [
    "print(sample(net, 1000, prime='Anna', top_k=5))"
   ]
  },
  {
   "cell_type": "markdown",
   "metadata": {},
   "source": [
    "## Loading a checkpoint"
   ]
  },
  {
   "cell_type": "code",
   "execution_count": null,
   "metadata": {
    "collapsed": true
   },
   "outputs": [],
   "source": [
    "# Here we have loaded in a model that trained over 20 epochs `rnn_20_epoch.net`\n",
    "with open('rnn_x_epoch.net', 'rb') as f:\n",
    "    checkpoint = torch.load(f)\n",
    "    \n",
    "loaded = CharRNN(checkpoint['tokens'], n_hidden=checkpoint['n_hidden'], n_layers=checkpoint['n_layers'])\n",
    "loaded.load_state_dict(checkpoint['state_dict'])"
   ]
  },
  {
   "cell_type": "code",
   "execution_count": null,
   "metadata": {
    "collapsed": true
   },
   "outputs": [],
   "source": [
    "# Sample using a loaded model\n",
    "print(sample(loaded, 2000, top_k=5, prime=\"And Levin said\"))"
   ]
  },
  {
   "cell_type": "code",
   "execution_count": null,
   "metadata": {
    "collapsed": true
   },
   "outputs": [],
   "source": []
  }
 ],
 "metadata": {
  "kernelspec": {
   "display_name": "Python 3",
   "language": "python",
   "name": "python3"
  },
  "language_info": {
   "codemirror_mode": {
    "name": "ipython",
    "version": 3
   },
   "file_extension": ".py",
   "mimetype": "text/x-python",
   "name": "python",
   "nbconvert_exporter": "python",
   "pygments_lexer": "ipython3",
   "version": "3.7.4"
  }
 },
 "nbformat": 4,
 "nbformat_minor": 2
}
